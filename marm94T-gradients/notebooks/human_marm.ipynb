{
 "cells": [
  {
   "cell_type": "code",
   "execution_count": 114,
   "id": "2ae78287-62e0-4b68-977e-7961528b6304",
   "metadata": {},
   "outputs": [],
   "source": [
    "import numpy as np\n",
    "import pandas as pd\n",
    "import matplotlib.pyplot as plt\n",
    "import nibabel as nib"
   ]
  },
  {
   "cell_type": "code",
   "execution_count": null,
   "id": "727b6807-0621-4811-a7cd-9c72c44588af",
   "metadata": {},
   "outputs": [],
   "source": []
  },
  {
   "cell_type": "code",
   "execution_count": 136,
   "id": "83f16244-b600-4a61-a2b9-00bdd30713b4",
   "metadata": {},
   "outputs": [
    {
     "data": {
      "text/plain": [
       "(648, 116)"
      ]
     },
     "execution_count": 136,
     "metadata": {},
     "output_type": "execute_result"
    }
   ],
   "source": [
    "\n",
    "#get marmoset connectivity (paxinos atlas)\n",
    "\n",
    "# load npz data - you should place your data.npz file in data directory\n",
    "connmap_L_npz = '/home/ROBARTS/alik/graham/cfmm-bids/Khan/MarmZona_94T/derivatives/subcorticalparc-smk/subcorticalparc_smk/results/diffparc/sub-betty/sub-betty_hemi-L_space-individual_label-ZI_from-MBMv212_connMap.npz'\n",
    "connmap_R_npz = '/home/ROBARTS/alik/graham/cfmm-bids/Khan/MarmZona_94T/derivatives/subcorticalparc-smk/subcorticalparc_smk/results/diffparc/sub-betty/sub-betty_hemi-R_space-individual_label-ZI_from-MBMv212_connMap.npz'\n",
    "\n",
    "\n",
    "marm_conn_L = np.load(connmap_L_npz)['conn']\n",
    "marm_conn_R = np.load(connmap_R_npz)['conn']\n",
    "\n",
    "\n",
    "marm_affine=np.load(connmap_L_npz)['affine']\n",
    "\n",
    "marm_mask_L=np.load(connmap_L_npz)['mask']\n",
    "marm_mask_R=np.load(connmap_R_npz)['mask']\n",
    "\n",
    "marm_nvox_L = marm_conn_L.shape[0]\n",
    "marm_nvox_R = marm_conn_L.shape[0]\n",
    "\n",
    "marm_conn = np.concatenate([marm_conn_L,marm_conn_R],axis=0)\n",
    "marm_conn.shape\n"
   ]
  },
  {
   "cell_type": "code",
   "execution_count": 88,
   "id": "afadf1a6-66f1-4231-a0ba-fd2e910d59ee",
   "metadata": {},
   "outputs": [],
   "source": [
    "\n",
    "marm_lut_tsv = '/home/ROBARTS/alik/graham/cfmm-bids/Khan/MarmZona_94T/derivatives/subcorticalparc-smk/subcorticalparc_smk/resources/label-paxinos_dseg.tsv'\n",
    "df_marm_lut = pd.read_csv(lut_tsv,sep='\\t')\n",
    "df_marm_lut\n",
    "\n",
    "human_lut_tsv = 'https://raw.githubusercontent.com/akhanf/diffparc-smk/master/resources/label-hcpmmp180_dseg.tsv'\n",
    "df_human_lut = pd.read_csv(human_lut_tsv,sep='\\t',usecols=['name'])\n",
    "\n",
    "\n",
    "homol_tsv = 'marm94T-gradients/notebooks/homologous_regions.tsv'\n",
    "df_homol = pd.read_csv(homol_tsv,sep='\\t')\n",
    "\n"
   ]
  },
  {
   "cell_type": "code",
   "execution_count": 89,
   "id": "d1c17ce3-71d0-4091-b114-136985bd0878",
   "metadata": {},
   "outputs": [
    {
     "data": {
      "text/html": [
       "<div>\n",
       "<style scoped>\n",
       "    .dataframe tbody tr th:only-of-type {\n",
       "        vertical-align: middle;\n",
       "    }\n",
       "\n",
       "    .dataframe tbody tr th {\n",
       "        vertical-align: top;\n",
       "    }\n",
       "\n",
       "    .dataframe thead th {\n",
       "        text-align: right;\n",
       "    }\n",
       "</style>\n",
       "<table border=\"1\" class=\"dataframe\">\n",
       "  <thead>\n",
       "    <tr style=\"text-align: right;\">\n",
       "      <th></th>\n",
       "      <th>name</th>\n",
       "    </tr>\n",
       "  </thead>\n",
       "  <tbody>\n",
       "    <tr>\n",
       "      <th>0</th>\n",
       "      <td>V1</td>\n",
       "    </tr>\n",
       "    <tr>\n",
       "      <th>1</th>\n",
       "      <td>MST</td>\n",
       "    </tr>\n",
       "    <tr>\n",
       "      <th>2</th>\n",
       "      <td>V6</td>\n",
       "    </tr>\n",
       "    <tr>\n",
       "      <th>3</th>\n",
       "      <td>V2</td>\n",
       "    </tr>\n",
       "    <tr>\n",
       "      <th>4</th>\n",
       "      <td>V3</td>\n",
       "    </tr>\n",
       "    <tr>\n",
       "      <th>...</th>\n",
       "      <td>...</td>\n",
       "    </tr>\n",
       "    <tr>\n",
       "      <th>175</th>\n",
       "      <td>STSva</td>\n",
       "    </tr>\n",
       "    <tr>\n",
       "      <th>176</th>\n",
       "      <td>TE1m</td>\n",
       "    </tr>\n",
       "    <tr>\n",
       "      <th>177</th>\n",
       "      <td>PI</td>\n",
       "    </tr>\n",
       "    <tr>\n",
       "      <th>178</th>\n",
       "      <td>a32pr</td>\n",
       "    </tr>\n",
       "    <tr>\n",
       "      <th>179</th>\n",
       "      <td>p24</td>\n",
       "    </tr>\n",
       "  </tbody>\n",
       "</table>\n",
       "<p>180 rows × 1 columns</p>\n",
       "</div>"
      ],
      "text/plain": [
       "      name\n",
       "0       V1\n",
       "1      MST\n",
       "2       V6\n",
       "3       V2\n",
       "4       V3\n",
       "..     ...\n",
       "175  STSva\n",
       "176   TE1m\n",
       "177     PI\n",
       "178  a32pr\n",
       "179    p24\n",
       "\n",
       "[180 rows x 1 columns]"
      ]
     },
     "execution_count": 89,
     "metadata": {},
     "output_type": "execute_result"
    }
   ],
   "source": [
    "df_human_lut"
   ]
  },
  {
   "cell_type": "code",
   "execution_count": 81,
   "id": "33063429-db3b-4b8b-80b3-042a7545734d",
   "metadata": {},
   "outputs": [
    {
     "data": {
      "text/plain": [
       "0              V1\n",
       "1              V2\n",
       "2            AuA1\n",
       "3        A4ab+A4c\n",
       "4    A3a+A3b+A1_2\n",
       "5            A8aV\n",
       "6              V5\n",
       "Name: marmoset, dtype: object"
      ]
     },
     "execution_count": 81,
     "metadata": {},
     "output_type": "execute_result"
    }
   ],
   "source": [
    "df_homol.marmoset"
   ]
  },
  {
   "cell_type": "code",
   "execution_count": 82,
   "id": "9602f548-ef5a-4876-ba18-e86011a48951",
   "metadata": {},
   "outputs": [
    {
     "name": "stdout",
     "output_type": "stream",
     "text": [
      "V1\n",
      "V2\n",
      "AuA1\n",
      "A4ab+A4c\n",
      "A3a+A3b+A1_2\n",
      "A8aV\n",
      "V5\n"
     ]
    }
   ],
   "source": [
    "#homologous regions for marm:\n",
    "\n",
    "#construct a new matrix only with connectivity to the homologous regions -- e.g. 7 of them, so nvoxels-by-7\n",
    "homol_marm_conn = np.zeros((marm_conn.shape[0],len(df_homol)))\n",
    "\n",
    "for i,marm_rois in enumerate(df_homol.marmoset):\n",
    "\n",
    "    print(marm_rois)\n",
    "    for roi in marm_rois.split('+'):\n",
    "    \n",
    "        in_label = df_marm_lut.query(f\"name==@roi\").index[0]\n",
    "        homol_marm_conn[:,i] = homol_marm_conn[:,i] + marm_conn[:,in_label]\n",
    "        \n",
    "\n",
    "\n",
    "\n"
   ]
  },
  {
   "cell_type": "code",
   "execution_count": null,
   "id": "1fa57bb7-084d-4753-acf3-6d425669ed21",
   "metadata": {},
   "outputs": [],
   "source": []
  },
  {
   "cell_type": "code",
   "execution_count": 123,
   "id": "9d7f624e-34a3-4500-89df-1a42b60936be",
   "metadata": {},
   "outputs": [
    {
     "data": {
      "text/plain": [
       "(3882, 180)"
      ]
     },
     "execution_count": 123,
     "metadata": {},
     "output_type": "execute_result"
    }
   ],
   "source": [
    "#human connectivity\n",
    "\n",
    "#load up group-concat human data\n",
    "\n",
    "human_group_npz_L='/home/ROBARTS/alik/graham/scratch_tkai/3_projects/1_inprogress/zonaconn/zonaconn-smk_7T/results/diffparc/tpl-MNI152NLin6Asym/tpl-MNI152NLin6Asym_hemi-L_label-ZIR_desc-concat_from-group_connMap.npz'\n",
    "human_group_npz_R='/home/ROBARTS/alik/graham/scratch_tkai/3_projects/1_inprogress/zonaconn/zonaconn-smk_7T/results/diffparc/tpl-MNI152NLin6Asym/tpl-MNI152NLin6Asym_hemi-R_label-ZIR_desc-concat_from-group_connMap.npz'\n",
    "\n",
    "#use group-avg\n",
    "human_conn_L = np.load(human_group_npz_L)['conn_group'].mean(axis=0)\n",
    "human_conn_R = np.load(human_group_npz_R)['conn_group'].mean(axis=0)\n",
    "\n",
    "human_affine=np.load(human_group_npz_R)['affine']\n",
    "\n",
    "human_mask_L=np.load(human_group_npz_L)['mask']\n",
    "human_mask_R=np.load(human_group_npz_R)['mask']\n",
    "\n",
    "human_nvox_L = human_conn_L.shape[0]\n",
    "human_nvox_R = human_conn_R.shape[0]\n",
    "\n",
    "human_conn = np.concatenate([human_conn_L,human_conn_R],axis=0)\n",
    "human_conn.shape"
   ]
  },
  {
   "cell_type": "code",
   "execution_count": 119,
   "id": "7bf65229-fb36-45de-9518-b93b731fe47e",
   "metadata": {},
   "outputs": [],
   "source": []
  },
  {
   "cell_type": "code",
   "execution_count": 94,
   "id": "96a8c876-7f91-4ac7-b0e8-af6c57754a61",
   "metadata": {
    "scrolled": true
   },
   "outputs": [],
   "source": [
    "#homologous regions for human:\n",
    "\n",
    "#construct a new matrix only with connectivity to the homologous regions -- e.g. 7 of them, so nvoxels-by-7\n",
    "homol_human_conn = np.zeros((human_conn.shape[0],len(df_homol)))\n",
    "\n",
    "for i,human_rois in enumerate(df_homol.human):\n",
    "\n",
    "    #print(human_rois)\n",
    "    for roi in human_rois.split('+'):\n",
    "\n",
    "        in_label = df_human_lut.query(f\"name==@roi\").index[0]\n",
    "        homol_human_conn[:,i] = homol_human_conn[:,i] + human_conn[:,in_label]\n",
    "        \n",
    "\n"
   ]
  },
  {
   "cell_type": "code",
   "execution_count": 101,
   "id": "611dde23-7862-4c07-9196-88895cffd853",
   "metadata": {},
   "outputs": [
    {
     "data": {
      "text/plain": [
       "[<matplotlib.lines.Line2D at 0x7fca5a700af0>]"
      ]
     },
     "execution_count": 101,
     "metadata": {},
     "output_type": "execute_result"
    },
    {
     "data": {
      "image/png": "[encoded data removed]",
      "text/plain": [
       "<Figure size 640x480 with 1 Axes>"
      ]
     },
     "metadata": {},
     "output_type": "display_data"
    }
   ],
   "source": [
    "plt.plot(homol_human_conn.mean(axis=0))\n",
    "plt.plot(homol_marm_conn.mean(axis=0))\n"
   ]
  },
  {
   "cell_type": "code",
   "execution_count": 106,
   "id": "5c8a46fd-75e1-43b3-aa8f-3de9732de2b6",
   "metadata": {},
   "outputs": [],
   "source": [
    "#compute the argmax for each voxel:\n",
    "marm_lbl = np.argmax(homol_marm_conn,axis=1)\n",
    "human_lbl = np.argmax(homol_human_conn,axis=1)"
   ]
  },
  {
   "cell_type": "code",
   "execution_count": 112,
   "id": "cb2fb24b-c6fb-48be-ae4e-88b1a5f7e594",
   "metadata": {},
   "outputs": [
    {
     "data": {
      "text/plain": [
       "(array([1071.,    0.,    0.,    0.,    0.,  957., 1854.]),\n",
       " array([0.        , 0.57142857, 1.14285714, 1.71428571, 2.28571429,\n",
       "        2.85714286, 3.42857143, 4.        ]),\n",
       " <BarContainer object of 7 artists>)"
      ]
     },
     "execution_count": 112,
     "metadata": {},
     "output_type": "execute_result"
    },
    {
     "data": {
      "image/png": "[encoded data removed]",
      "text/plain": [
       "<Figure size 640x480 with 1 Axes>"
      ]
     },
     "metadata": {},
     "output_type": "display_data"
    }
   ],
   "source": [
    "plt.hist(human_lbl,bins=7)"
   ]
  },
  {
   "cell_type": "code",
   "execution_count": 111,
   "id": "718a158d-12b4-4c04-a94b-1c0f2445c359",
   "metadata": {},
   "outputs": [
    {
     "data": {
      "text/plain": [
       "(array([ 66.,   6.,   0.,   0., 124., 186., 266.]),\n",
       " array([0.        , 0.71428571, 1.42857143, 2.14285714, 2.85714286,\n",
       "        3.57142857, 4.28571429, 5.        ]),\n",
       " <BarContainer object of 7 artists>)"
      ]
     },
     "execution_count": 111,
     "metadata": {},
     "output_type": "execute_result"
    },
    {
     "data": {
      "image/png": "[encoded data removed]",
      "text/plain": [
       "<Figure size 640x480 with 1 Axes>"
      ]
     },
     "metadata": {},
     "output_type": "display_data"
    }
   ],
   "source": [
    "plt.hist(marm_lbl,bins=7)"
   ]
  },
  {
   "cell_type": "code",
   "execution_count": 138,
   "id": "73cbe2c6-6f19-4e76-b2ef-0f6af63b757a",
   "metadata": {},
   "outputs": [],
   "source": [
    "#save marmoset zona labelling:\n",
    "seed_L_file= '/home/ROBARTS/alik/graham/cfmm-bids/Khan/MarmZona_94T/derivatives/subcorticalparc-smk/subcorticalparc_smk/results/diffparc/sub-betty/sub-betty_hemi-L_space-individual_res-dwi_label-ZI_from-MBMv212_mask.nii.gz'\n",
    "\n",
    "seed_header = nib.load(seed_L_file).header\n",
    "\n",
    "seed_affine = data_L['affine']\n",
    "\n",
    "lbl_vol = np.zeros(marm_mask_L.shape)\n",
    "lbl_vol[marm_mask_L > 0]  = marm_lbl[:nvox_L]\n",
    "lbl_vol[marm_mask_R > 0]  = marm_lbl[nvox_L:]\n",
    "\n",
    "lbl_nib = nib.Nifti1Image(lbl_vol,seed_affine,header=seed_header)\n",
    "lbl_nib.to_filename('marm_lbl.nii')"
   ]
  },
  {
   "cell_type": "code",
   "execution_count": 139,
   "id": "217c7f34-3df8-4096-b425-0dbe0c2be1a5",
   "metadata": {},
   "outputs": [],
   "source": [
    "#save 4d conn map marm:\n",
    "\n",
    "conn_vols = []\n",
    "for i in range(homol_marm_conn.shape[1]):\n",
    "    conn_vol = np.zeros(marm_mask_L.shape)\n",
    "    conn_vol[marm_mask_L > 0] = homol_marm_conn[:marm_nvox_L,i]\n",
    "    conn_vol[marm_mask_R > 0] = homol_marm_conn[marm_nvox_L:,i]\n",
    "    conn_vols.append(conn_vol)\n",
    "\n",
    "conn_4d = np.stack(conn_vols,axis=3)\n",
    "conn_4d.shape\n",
    "\n",
    "conn_nib = nib.Nifti1Image(conn_4d,seed_affine,header=seed_header)\n",
    "conn_nib.to_filename('marm_conn_4d.nii')\n",
    "                      "
   ]
  },
  {
   "cell_type": "code",
   "execution_count": 125,
   "id": "03a9d430-6cdb-4320-a1f3-5a2934768407",
   "metadata": {},
   "outputs": [],
   "source": [
    "#save human zona labelling:\n",
    "#seed_L_file = '/home/ROBARTS/alik/graham/scratch_tkai/3_projects/1_inprogress/zonaconn/zonaconn-smk_7T/results/diffparc/tpl-MNI152NLin6Asym/tpl-MNI152NLin6Asym_hemi-L_label-ZIR_mask.nii.gz'\n",
    "#seed_R_file = '/home/ROBARTS/alik/graham/scratch_tkai/3_projects/1_inprogress/zonaconn/zonaconn-smk_7T/results/diffparc/tpl-MNI152NLin6Asym/tpl-MNI152NLin6Asym_hemi-R_label-ZIR_mask.nii.gz'\n",
    "\n",
    "#seed_header = nib.load(seed_L_file).header\n",
    "seed_affine = human_affine\n",
    "\n",
    "lbl_vol = np.zeros(human_mask_L.shape)\n",
    "lbl_vol[human_mask_L > 0]  = human_lbl[:human_nvox_L]\n",
    "lbl_vol[human_mask_R > 0]  = human_lbl[human_nvox_L:]\n",
    "\n",
    "lbl_nib = nib.Nifti1Image(lbl_vol,seed_affine)\n",
    "lbl_nib.to_filename('human_lbl.nii')"
   ]
  },
  {
   "cell_type": "code",
   "execution_count": 133,
   "id": "0eef0d90-ad40-4879-8ce2-483acddab881",
   "metadata": {},
   "outputs": [],
   "source": [
    "#save 4d conn map human\n",
    "\n",
    "\n",
    "conn_vols = []\n",
    "for i in range(homol_human_conn.shape[1]):\n",
    "    conn_vol = np.zeros(human_mask_L.shape)\n",
    "    conn_vol[human_mask_L > 0] = homol_human_conn[:human_nvox_L,i]\n",
    "    conn_vol[human_mask_R > 0] = homol_human_conn[human_nvox_L:,i]\n",
    "    conn_vols.append(conn_vol)\n",
    "\n",
    "conn_4d = np.stack(conn_vols,axis=3)\n",
    "conn_4d.shape\n",
    "\n",
    "conn_nib = nib.Nifti1Image(conn_4d,seed_affine)\n",
    "conn_nib.to_filename('human_conn_4d.nii')\n",
    "                                        \n",
    "    \n"
   ]
  },
  {
   "cell_type": "code",
   "execution_count": 130,
   "id": "f15fe1fb-3a50-449f-a155-15f4c62f0ea1",
   "metadata": {},
   "outputs": [
    {
     "data": {
      "text/plain": [
       "(3882, 7)"
      ]
     },
     "execution_count": 130,
     "metadata": {},
     "output_type": "execute_result"
    }
   ],
   "source": [
    "homol_human_conn.shape"
   ]
  },
  {
   "cell_type": "code",
   "execution_count": null,
   "id": "ecaf301c-c314-4174-bcfe-689747261c3c",
   "metadata": {},
   "outputs": [],
   "source": []
  }
 ],
 "metadata": {
  "kernelspec": {
   "display_name": "Python 3 (ipykernel)",
   "language": "python",
   "name": "python3"
  },
  "language_info": {
   "codemirror_mode": {
    "name": "ipython",
    "version": 3
   },
   "file_extension": ".py",
   "mimetype": "text/x-python",
   "name": "python",
   "nbconvert_exporter": "python",
   "pygments_lexer": "ipython3",
   "version": "3.9.5"
  }
 },
 "nbformat": 4,
 "nbformat_minor": 5
}
